{
 "cells": [
  {
   "cell_type": "code",
   "execution_count": 129,
   "metadata": {},
   "outputs": [],
   "source": [
    "import pandas as pd\n",
    "import geopandas\n",
    "import datetime\n",
    "from geopandas import GeoDataFrame\n",
    "from shapely.geometry import Point\n",
    "import matplotlib.pyplot as plt\n",
    "from shapely.ops import nearest_points\n",
    "from math import sin, cos, sqrt, atan2, radians\n",
    "import math\n",
    "from numpy import cos, sin, arcsin, sqrt\n",
    "from IPython.display import display"
   ]
  },
  {
   "cell_type": "code",
   "execution_count": 130,
   "metadata": {},
   "outputs": [],
   "source": [
    "#import fire calls into pandas\n",
    "fireCalls = pd.read_csv(\"Seattle_Real_Time_Fire_911_Calls.csv\")\n",
    "\n",
    "#remove unnecessary initial line\n",
    "fireCalls = fireCalls.drop([0, 0])\n",
    "\n",
    "#add columns to break down data further\n",
    "#https://erikrood.com/Python_References/extract_month_year_pandas_final.html\n",
    "fireCalls['Month'] = pd.DatetimeIndex(fireCalls['Datetime']).month\n",
    "fireCalls['Year'] = pd.DatetimeIndex(fireCalls['Datetime']).year"
   ]
  },
  {
   "cell_type": "code",
   "execution_count": 131,
   "metadata": {},
   "outputs": [],
   "source": [
    "#separate 2017 and 2018 record\n",
    "fc2017 = fireCalls[fireCalls.Year == 2017]\n",
    "fc2018 = fireCalls[fireCalls.Year == 2018]"
   ]
  },
  {
   "cell_type": "code",
   "execution_count": 132,
   "metadata": {},
   "outputs": [],
   "source": [
    "#import seattle neighborhood shapefile\n",
    "seaNH = geopandas.read_file(\"City_Clerk_Neighborhoods\\City_Clerk_Neighborhoods.shp\")\n",
    "\n",
    "#need to remove excess rows at beginning for extra islands\n",
    "seaNH = seaNH.drop(seaNH.index[:26])\n",
    "\n",
    "#get seaNH projection data to use for fire calls geodata frame \n",
    "seaNH_crs = seaNH.crs"
   ]
  },
  {
   "cell_type": "code",
   "execution_count": 133,
   "metadata": {},
   "outputs": [],
   "source": [
    "#convert fireCalls to geodataframe\n",
    "#https://gis.stackexchange.com/questions/174159/convert-a-pandas-dataframe-to-a-geodataframe\n",
    "geometry1 = [Point(xy) for xy in zip(fc2017.Longitude, fc2017.Latitude)]\n",
    "crs = seaNH_crs\n",
    "fc2017_geo = GeoDataFrame(fc2017, crs = crs, geometry = geometry1)\n",
    "\n",
    "geometry2 = [Point(xy) for xy in zip(fc2018.Longitude, fc2018.Latitude)]\n",
    "crs = seaNH_crs\n",
    "fc2018_geo = GeoDataFrame(fc2018, crs = crs, geometry = geometry2)\n"
   ]
  },
  {
   "cell_type": "code",
   "execution_count": 134,
   "metadata": {},
   "outputs": [
    {
     "name": "stderr",
     "output_type": "stream",
     "text": [
      "D:\\Anaconda\\envs\\mapping\\lib\\site-packages\\numpy\\lib\\function_base.py:2167: RuntimeWarning: invalid value encountered in find_contains (vectorized)\n",
      "  outputs = ufunc(*inputs)\n"
     ]
    }
   ],
   "source": [
    "#spatial join fc_geo to neighborhoods so each fire call has a neighborhood attribute\n",
    "fc2017_seattle = geopandas.sjoin(fc2017_geo, seaNH, how = 'inner', op = 'within')\n",
    "fc2018_seattle = geopandas.sjoin(fc2018_geo, seaNH, how = 'inner', op = 'within')"
   ]
  },
  {
   "cell_type": "code",
   "execution_count": 135,
   "metadata": {},
   "outputs": [],
   "source": [
    "fc2017_seattle.to_file(\"2017_Fire_Calls_Seattle\")\n",
    "fc2018_seattle.to_file(\"2018_Fire_Calls_Seattle\")"
   ]
  },
  {
   "cell_type": "code",
   "execution_count": 166,
   "metadata": {},
   "outputs": [],
   "source": [
    "fc2017 = fc2017_seattle\n",
    "fc2018 = fc2018_seattle"
   ]
  },
  {
   "cell_type": "code",
   "execution_count": 167,
   "metadata": {},
   "outputs": [],
   "source": [
    "#load in fire stations and hospital locations\n",
    "fireS = pd.read_csv(\"Fire_Stations.csv\")\n",
    "hospital = pd.read_csv(\"Hospitals.csv\")"
   ]
  },
  {
   "cell_type": "code",
   "execution_count": 168,
   "metadata": {
    "scrolled": true
   },
   "outputs": [],
   "source": [
    "#convert to geodataframes\n",
    "fs_geom = [Point(xy) for xy in zip(fireS.X, fireS.Y)]\n",
    "crs = seaNH_crs\n",
    "fs_geo = GeoDataFrame(fireS, crs = crs, geometry = fs_geom)"
   ]
  },
  {
   "cell_type": "code",
   "execution_count": 169,
   "metadata": {},
   "outputs": [],
   "source": [
    "hos_geom = [Point(xy) for xy in zip(hospital.X, hospital.Y)]\n",
    "crs = seaNH_crs\n",
    "hospital_geo = GeoDataFrame(hospital, crs = crs, geometry = hos_geom)"
   ]
  },
  {
   "cell_type": "code",
   "execution_count": 170,
   "metadata": {},
   "outputs": [],
   "source": [
    "#nearest neighbor analysis\n",
    "#https://gis.stackexchange.com/questions/222315/geopandas-find-nearest-point-in-other-dataframe\n",
    "pts3 = fs_geo.geometry.unary_union\n",
    "def near(point, pts=pts3):\n",
    "    nearest = fs_geo.geometry == nearest_points(point, pts)[1]\n",
    "    return fs_geo[nearest].STNID.get_values()[0]\n",
    "fc2017['STNID'] = fc2017.apply(lambda row: near(row.geometry), axis=1)\n",
    "fc2018['STNID'] = fc2018.apply(lambda row: near(row.geometry), axis=1)"
   ]
  },
  {
   "cell_type": "code",
   "execution_count": 176,
   "metadata": {},
   "outputs": [],
   "source": [
    "hospital_geo= hospital_geo.rename(index=str, columns={\"OBJECTID\": \"HOSID\"})\n",
    "pts3 = hospital_geo.geometry.unary_union\n",
    "def near2(point, pts=pts3):\n",
    "    nearest = hospital_geo.geometry == nearest_points(point, pts)[1]\n",
    "    return hospital_geo[nearest].HOSID.get_values()[0]\n",
    "fc2017['HOSID'] = fc2017.apply(lambda row: near2(row.geometry), axis=1)\n",
    "fc2018['HOSID'] = fc2018.apply(lambda row: near2(row.geometry), axis=1)\n",
    "fc2017 = fc2017.drop(columns=['Nearest_Fire_Station'])\n",
    "fc2018 = fc2018.drop(columns=['Nearest_Fire_Station'])"
   ]
  },
  {
   "cell_type": "code",
   "execution_count": 182,
   "metadata": {},
   "outputs": [],
   "source": [
    "fc17test = fc2017"
   ]
  },
  {
   "cell_type": "code",
   "execution_count": 183,
   "metadata": {},
   "outputs": [],
   "source": [
    "fc18test = fc2018"
   ]
  },
  {
   "cell_type": "code",
   "execution_count": 184,
   "metadata": {},
   "outputs": [],
   "source": [
    "#remove extra columns\n",
    "fireS = fireS.drop(columns=['AREA', 'PERIMETER', 'FIRE_', 'FIRE_ID', 'B1', 'STREETS_', 'STREETS_ID', 'STREETS_SI', 'CIP', 'SE_ANNO_CAD_DATA', 'NAME1'])\n",
    "hospital = hospital.drop(columns=['SE_ANNO_CAD_DATA', 'ACUTE_CARE', 'GIS_EDT_DT'])"
   ]
  },
  {
   "cell_type": "code",
   "execution_count": 185,
   "metadata": {},
   "outputs": [],
   "source": [
    "#join closest firestation or hospital attributes to call data\n",
    "fc17test = fc17test.merge(fireS, on=\"STNID\")\n",
    "fc17test = fc17test.merge(hospital, on=\"HOSID\")"
   ]
  },
  {
   "cell_type": "code",
   "execution_count": 186,
   "metadata": {},
   "outputs": [],
   "source": [
    "fc18test = fc18test.merge(fireS, on=\"STNID\")\n",
    "fc18test = fc18test.merge(hospital, on=\"HOSID\")"
   ]
  },
  {
   "cell_type": "code",
   "execution_count": 187,
   "metadata": {},
   "outputs": [],
   "source": [
    "#calculate the distance between each point\n",
    "#https://stackoverflow.com/questions/25767596/vectorised-haversine-formula-with-a-pandas-dataframe\n",
    "def calculate_distance(row):\n",
    "    lon1 = row['Longitude']\n",
    "    lat1 = row['Latitude']\n",
    "    lon2 = row['X_x']\n",
    "    lat2 = row['Y_x']\n",
    "    lon1, lat1, lon2, lat2 = map(radians, [lon1, lat1, lon2, lat2])\n",
    "    dlon = lon2 - lon1 \n",
    "    dlat = lat2 - lat1 \n",
    "    a = sin(dlat/2)**2 + cos(lat1) * cos(lat2) * sin(dlon/2)**2\n",
    "    c = 2 * arcsin(sqrt(a)) \n",
    "    km = 6367 * c\n",
    "    return km\n",
    "\n",
    "fc17test['FS_Distance'] = fc17test.apply(lambda row: calculate_distance(row), axis=1)"
   ]
  },
  {
   "cell_type": "code",
   "execution_count": 188,
   "metadata": {},
   "outputs": [],
   "source": [
    "fc18test['FS_Distance'] = fc18test.apply(lambda row: calculate_distance(row), axis=1)"
   ]
  },
  {
   "cell_type": "code",
   "execution_count": 189,
   "metadata": {},
   "outputs": [],
   "source": [
    "def calculate_distance2(row):\n",
    "    lon1 = row['Longitude']\n",
    "    lat1 = row['Latitude']\n",
    "    lon2 = row['X_y']\n",
    "    lat2 = row['Y_y']\n",
    "    lon1, lat1, lon2, lat2 = map(radians, [lon1, lat1, lon2, lat2])\n",
    "    dlon = lon2 - lon1 \n",
    "    dlat = lat2 - lat1 \n",
    "    a = sin(dlat/2)**2 + cos(lat1) * cos(lat2) * sin(dlon/2)**2\n",
    "    c = 2 * arcsin(sqrt(a)) \n",
    "    km = 6367 * c\n",
    "    return km\n",
    "\n",
    "fc17test['Hos_Distance'] = fc17test.apply(lambda row: calculate_distance2(row), axis=1)\n",
    "fc18test['Hos_Distance'] = fc18test.apply(lambda row: calculate_distance2(row), axis=1)"
   ]
  },
  {
   "cell_type": "code",
   "execution_count": 197,
   "metadata": {},
   "outputs": [],
   "source": [
    "fc2017 = fc17test\n",
    "fc2018 = fc18test\n",
    "\n",
    "#drop geometry rows for exporting to shapefile\n",
    "fc2017 = fc2017.drop(columns=['geometry_x', 'geometry_y', 'geometry'])\n",
    "fc2018 = fc2018.drop(columns=['geometry_x', 'geometry_y', 'geometry'])\n",
    "\n"
   ]
  },
  {
   "cell_type": "code",
   "execution_count": 200,
   "metadata": {},
   "outputs": [],
   "source": [
    "pd.options.display.max_columns = None\n",
    "#convert final dataframe to geodataframe\n",
    "geometry1 = [Point(xy) for xy in zip(fc2017.Longitude, fc2017.Latitude)]\n",
    "crs = seaNH_crs\n",
    "fc2017_geo = GeoDataFrame(fc2017, crs = crs, geometry = geometry1)\n",
    "\n",
    "geometry2 = [Point(xy) for xy in zip(fc2018.Longitude, fc2018.Latitude)]\n",
    "crs = seaNH_crs\n",
    "fc2018_geo = GeoDataFrame(fc2018, crs = crs, geometry = geometry2)"
   ]
  },
  {
   "cell_type": "code",
   "execution_count": 201,
   "metadata": {},
   "outputs": [],
   "source": [
    "fc2017_geo.to_file(\"FC2017_FS_HOS\")\n",
    "fc2018_geo.to_file(\"FC2018_FS_HOS\")"
   ]
  }
 ],
 "metadata": {
  "kernelspec": {
   "display_name": "Python 2",
   "language": "python",
   "name": "python2"
  },
  "language_info": {
   "codemirror_mode": {
    "name": "ipython",
    "version": 2
   },
   "file_extension": ".py",
   "mimetype": "text/x-python",
   "name": "python",
   "nbconvert_exporter": "python",
   "pygments_lexer": "ipython2",
   "version": "2.7.15"
  }
 },
 "nbformat": 4,
 "nbformat_minor": 2
}
