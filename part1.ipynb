{
 "cells": [
  {
   "cell_type": "code",
   "execution_count": 1,
   "metadata": {},
   "outputs": [],
   "source": [
    "import pandas as pd\n",
    "import geopandas\n",
    "import datetime\n",
    "from geopandas import GeoDataFrame\n",
    "from shapely.geometry import Point"
   ]
  },
  {
   "cell_type": "code",
   "execution_count": 3,
   "metadata": {},
   "outputs": [],
   "source": [
    "#import fire calls into pandas\n",
    "fireCalls = pd.read_csv(\"Seattle_Real_Time_Fire_911_Calls.csv\")\n",
    "\n",
    "#remove unnecessary initial line\n",
    "fireCalls = fireCalls.drop([0, 0])\n",
    "\n",
    "#add columns to break down data further\n",
    "#https://erikrood.com/Python_References/extract_month_year_pandas_final.html\n",
    "fireCalls['Month'] = pd.DatetimeIndex(fireCalls['Datetime']).month\n",
    "fireCalls['Year'] = pd.DatetimeIndex(fireCalls['Datetime']).year\n",
    "fireCalls['Neighborhood'] = ''"
   ]
  },
  {
   "cell_type": "code",
   "execution_count": 5,
   "metadata": {},
   "outputs": [],
   "source": [
    "#import seattle neighborhood shapefile\n",
    "seaNH = geopandas.read_file(\"City_Clerk_Neighborhoods\\City_Clerk_Neighborhoods.shp\")\n",
    "\n",
    "#need to remove excess rows at beginning for extra islands\n",
    "seaNH = seaNH.drop(seaNH.index[:26])"
   ]
  },
  {
   "cell_type": "code",
   "execution_count": 6,
   "metadata": {},
   "outputs": [],
   "source": [
    "#get seaNH projection data to use for fire calls geodata frame \n",
    "seaNH_crs = seaNH.crs\n",
    "\n",
    "#convert fireCalls to geodataframe\n",
    "#https://gis.stackexchange.com/questions/174159/convert-a-pandas-dataframe-to-a-geodataframe\n",
    "geometry = [Point(xy) for xy in zip(fireCalls.Longitude, fireCalls.Latitude)]\n",
    "crs = seaNH_crs\n",
    "fc_geo = GeoDataFrame(fireCalls, crs = crs, geometry = geometry)"
   ]
  },
  {
   "cell_type": "code",
   "execution_count": 12,
   "metadata": {
    "scrolled": true
   },
   "outputs": [],
   "source": [
    "#spatial join fc_geo to neighborhoods so each fire call has a neighborhood attribute\n",
    "seaFC = geopandas.sjoin(fc_geo, seaNH, how = 'inner', op = 'within')"
   ]
  },
  {
   "cell_type": "code",
   "execution_count": 11,
   "metadata": {},
   "outputs": [],
   "source": [
    "seaFC.to_file('seattlefc')"
   ]
  }
 ],
 "metadata": {
  "kernelspec": {
   "display_name": "Python 2",
   "language": "python",
   "name": "python2"
  },
  "language_info": {
   "codemirror_mode": {
    "name": "ipython",
    "version": 2
   },
   "file_extension": ".py",
   "mimetype": "text/x-python",
   "name": "python",
   "nbconvert_exporter": "python",
   "pygments_lexer": "ipython2",
   "version": "2.7.15"
  }
 },
 "nbformat": 4,
 "nbformat_minor": 2
}
