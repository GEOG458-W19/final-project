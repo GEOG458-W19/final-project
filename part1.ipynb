{
 "cells": [
  {
   "cell_type": "code",
   "execution_count": 37,
   "metadata": {},
   "outputs": [],
   "source": [
    "import pandas as pd\n",
    "import geopandas\n",
    "import datetime\n",
    "from geopandas import GeoDataFrame\n",
    "from shapely.geometry import Point\n",
    "import matplotlib.pyplot as plt"
   ]
  },
  {
   "cell_type": "code",
   "execution_count": 18,
   "metadata": {},
   "outputs": [],
   "source": [
    "#import fire calls into pandas\n",
    "fireCalls = pd.read_csv(\"Seattle_Real_Time_Fire_911_Calls.csv\")\n",
    "\n",
    "#remove unnecessary initial line\n",
    "fireCalls = fireCalls.drop([0, 0])\n",
    "\n",
    "#add columns to break down data further\n",
    "#https://erikrood.com/Python_References/extract_month_year_pandas_final.html\n",
    "fireCalls['Month'] = pd.DatetimeIndex(fireCalls['Datetime']).month\n",
    "fireCalls['Year'] = pd.DatetimeIndex(fireCalls['Datetime']).year"
   ]
  },
  {
   "cell_type": "code",
   "execution_count": 21,
   "metadata": {},
   "outputs": [],
   "source": [
    "#separate 2017 and 2018 record\n",
    "fc2017 = fireCalls[fireCalls.Year == 2017]\n",
    "fc2018 = fireCalls[fireCalls.Year == 2018]"
   ]
  },
  {
   "cell_type": "code",
   "execution_count": 22,
   "metadata": {},
   "outputs": [],
   "source": [
    "#import seattle neighborhood shapefile\n",
    "seaNH = geopandas.read_file(\"City_Clerk_Neighborhoods\\City_Clerk_Neighborhoods.shp\")\n",
    "\n",
    "#need to remove excess rows at beginning for extra islands\n",
    "seaNH = seaNH.drop(seaNH.index[:26])"
   ]
  },
  {
   "cell_type": "code",
   "execution_count": 31,
   "metadata": {},
   "outputs": [],
   "source": [
    "#get seaNH projection data to use for fire calls geodata frame \n",
    "seaNH_crs = seaNH.crs\n",
    "\n",
    "#convert fireCalls to geodataframe\n",
    "#https://gis.stackexchange.com/questions/174159/convert-a-pandas-dataframe-to-a-geodataframe\n",
    "geometry1 = [Point(xy) for xy in zip(fc2017.Longitude, fc2017.Latitude)]\n",
    "crs = seaNH_crs\n",
    "fc2017_geo = GeoDataFrame(fc2017, crs = crs, geometry = geometry1)\n",
    "\n",
    "geometry2 = [Point(xy) for xy in zip(fc2018.Longitude, fc2018.Latitude)]\n",
    "crs = seaNH_crs\n",
    "fc2018_geo = GeoDataFrame(fc2018, crs = crs, geometry = geometry2)\n"
   ]
  },
  {
   "cell_type": "code",
   "execution_count": 32,
   "metadata": {},
   "outputs": [],
   "source": [
    "#spatial join fc_geo to neighborhoods so each fire call has a neighborhood attribute\n",
    "fc2017_seattle = geopandas.sjoin(fc2017_geo, seaNH, how = 'inner', op = 'within')\n",
    "fc2018_seattle = geopandas.sjoin(fc2018_geo, seaNH, how = 'inner', op = 'within')"
   ]
  },
  {
   "cell_type": "code",
   "execution_count": 35,
   "metadata": {},
   "outputs": [],
   "source": [
    "fc2017_seattle.to_file(\"2017_Fire_Calls_Seattle\")\n",
    "fc2018_seattle.to_file(\"2018_Fire_Calls_Seattle\")"
   ]
  }
 ],
 "metadata": {
  "kernelspec": {
   "display_name": "Python 2",
   "language": "python",
   "name": "python2"
  },
  "language_info": {
   "codemirror_mode": {
    "name": "ipython",
    "version": 2
   },
   "file_extension": ".py",
   "mimetype": "text/x-python",
   "name": "python",
   "nbconvert_exporter": "python",
   "pygments_lexer": "ipython2",
   "version": "2.7.15"
  }
 },
 "nbformat": 4,
 "nbformat_minor": 2
}
